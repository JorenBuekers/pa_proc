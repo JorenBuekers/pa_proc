{
 "cells": [
  {
   "cell_type": "code",
   "execution_count": null,
   "metadata": {},
   "outputs": [
    {
     "ename": "ModuleNotFoundError",
     "evalue": "No module named 'functions'",
     "output_type": "error",
     "traceback": [
      "\u001b[1;31m---------------------------------------------------------------------------\u001b[0m",
      "\u001b[1;31mModuleNotFoundError\u001b[0m                       Traceback (most recent call last)",
      "Cell \u001b[1;32mIn[2], line 5\u001b[0m\n\u001b[0;32m      2\u001b[0m \u001b[38;5;28;01mimport\u001b[39;00m \u001b[38;5;21;01mnumpy\u001b[39;00m \u001b[38;5;28;01mas\u001b[39;00m \u001b[38;5;21;01mnp\u001b[39;00m\n\u001b[0;32m      3\u001b[0m \u001b[38;5;28;01mfrom\u001b[39;00m \u001b[38;5;21;01magcounts\u001b[39;00m\u001b[38;5;21;01m.\u001b[39;00m\u001b[38;5;21;01mextract\u001b[39;00m \u001b[38;5;28;01mimport\u001b[39;00m get_counts\n\u001b[1;32m----> 5\u001b[0m \u001b[38;5;28;01mfrom\u001b[39;00m \u001b[38;5;21;01mfunctions\u001b[39;00m\u001b[38;5;21;01m.\u001b[39;00m\u001b[38;5;21;01mf_acc_to_counts_enmo\u001b[39;00m \u001b[38;5;28;01mimport\u001b[39;00m acc_to_counts_enmo\n\u001b[0;32m      6\u001b[0m \u001b[38;5;28;01mfrom\u001b[39;00m \u001b[38;5;21;01mfunctions\u001b[39;00m\u001b[38;5;21;01m.\u001b[39;00m\u001b[38;5;21;01mf_expoapp_to_actigraph\u001b[39;00m \u001b[38;5;28;01mimport\u001b[39;00m expoapp_to_actigraph\n",
      "\u001b[1;31mModuleNotFoundError\u001b[0m: No module named 'functions'"
     ]
    }
   ],
   "source": [
    "import pandas as pd\n",
    "import numpy as np\n",
    "from agcounts.extract import get_counts\n",
    "\n",
    "from functions.f_acc_to_counts_enmo import acc_to_counts_enmo\n",
    "from functions.f_expoapp_to_actigraph import expoapp_to_actigraph"
   ]
  },
  {
   "cell_type": "markdown",
   "metadata": {},
   "source": [
    "## Step 0: Convert ExpoApp data to Actigraph-like data "
   ]
  },
  {
   "cell_type": "code",
   "execution_count": 2,
   "metadata": {},
   "outputs": [],
   "source": [
    "# Specify the path of your file\n",
    "path_expoapp_raw = \"C:/Users/jbuekers/Desktop/Sab_339-Mob1-1/\"\n",
    "\n",
    "# Create dataframe\n",
    "data_act = expoapp_to_actigraph(path_expoapp_raw + \"acc.csv\", 1, \"Europe/Madrid\")\n",
    "\n",
    "# Save dataframe to csv\n",
    "data_act.to_csv(path_expoapp_raw + \"/acc_prep2.csv\",index=False, header=False)"
   ]
  },
  {
   "cell_type": "markdown",
   "metadata": {},
   "source": [
    "## Step 1: Convert Actigraph-like data to counts and ENMO"
   ]
  },
  {
   "cell_type": "code",
   "execution_count": 3,
   "metadata": {},
   "outputs": [],
   "source": [
    "# Specify path of where data is saved\n",
    "path = \"C:/Users/jbuekers/Desktop/Sab_339-Mob1-1/\"\n",
    "\n",
    "[enmo_10s, counts_enmo] = acc_to_counts_enmo(path + \"acc_prep2.csv\", 'expoapp', 30, 1)"
   ]
  },
  {
   "cell_type": "markdown",
   "metadata": {},
   "source": [
    "## Step 2: calculate physical activity variables"
   ]
  },
  {
   "cell_type": "code",
   "execution_count": 4,
   "metadata": {},
   "outputs": [],
   "source": [
    "\n",
    "# Identify different days in data\n",
    "days_measured = counts_enmo.index.map(pd.Timestamp.date).unique()\n",
    " \n",
    "# Create results dataframe\n",
    "results = pd.DataFrame(index=days_measured)\n",
    " \n",
    "# Calculate time in different PA domains (cut-offs used from document Gabriela)\n",
    "for day_loop in days_measured:\n",
    "\t\n",
    "\tday_data = counts_enmo[(counts_enmo.index.date == day_loop)]\n",
    "\t\n",
    "\tresults.loc[day_loop, 'weartime_choi'] = np.sum(day_data.wear_choi == 1)\n",
    "\tresults.loc[day_loop, 'weartime_vanhees'] = np.sum(day_data.wear_vanhees == 1)\n",
    "\t\n",
    "\tday_data_wear_choi = day_data[day_data.wear_choi == 1]\n",
    "\tday_data_wear_vanhees = day_data[day_data.wear_vanhees == 1]\n",
    "\t\n",
    "\tresults.loc[day_loop, 'counts_lpa'] = np.sum((day_data_wear_choi.counts_vm > 200) & (day_data_wear_choi.counts_vm <= 2690))\n",
    "\tresults.loc[day_loop, 'counts_mvpa'] = np.sum(day_data_wear_choi.counts_vm > 2690)\n",
    "\tresults.loc[day_loop, 'counts_vpa'] = np.sum(day_data_wear_choi.counts_vm > 6166)\n",
    " \n",
    " \n",
    "\tresults.loc[day_loop, 'enmo_lpa'] = np.sum((day_data_wear_vanhees.enmo > 47.4) & (day_data_wear_vanhees.enmo < 69.1))\n",
    "\tresults.loc[day_loop, 'enmo_mvpa'] = np.sum(day_data_wear_vanhees.enmo >= 69.1)\n",
    "\tresults.loc[day_loop, 'enmo_vpa'] = np.sum(day_data_wear_vanhees.enmo >= 258.7)\n",
    "\n"
   ]
  }
 ],
 "metadata": {
  "kernelspec": {
   "display_name": "base",
   "language": "python",
   "name": "python3"
  },
  "language_info": {
   "codemirror_mode": {
    "name": "ipython",
    "version": 3
   },
   "file_extension": ".py",
   "mimetype": "text/x-python",
   "name": "python",
   "nbconvert_exporter": "python",
   "pygments_lexer": "ipython3",
   "version": "3.12.4"
  }
 },
 "nbformat": 4,
 "nbformat_minor": 2
}
