{
 "cells": [
  {
   "cell_type": "code",
   "execution_count": 1,
   "metadata": {},
   "outputs": [],
   "source": [
    "import pandas as pd\n",
    "import numpy as np"
   ]
  },
  {
   "cell_type": "markdown",
   "metadata": {},
   "source": [
    "## 1) Only when using ExpoApp data: \n",
    "## Convert ExpoApp data to equidistant time series "
   ]
  },
  {
   "cell_type": "markdown",
   "metadata": {},
   "source": [
    "### 1.1) Scenario 1: Further analyses will be performed with the pa_proc pipeline ###"
   ]
  },
  {
   "cell_type": "code",
   "execution_count": null,
   "metadata": {},
   "outputs": [],
   "source": [
    "from pa_proc.expoapp_to_acc import expoapp_to_equidistant\n",
    "\n",
    "# Create dataframe with equidistant acceleration in three axes\n",
    "data_eq = expoapp_to_equidistant(\"C:/Users/jbuekers/Desktop/pa_proc_test data/acc_expoapp.csv\", 1, \"Europe/Madrid\")\n",
    "\n",
    "# Save dataframe to csv (optional)\n",
    "data_eq.to_csv(\"C:/Users/jbuekers/Desktop/pa_proc_test data/acc_expoapp_eq.csv\", index=False, header=False)"
   ]
  },
  {
   "cell_type": "markdown",
   "metadata": {},
   "source": [
    "### 1.2) Scenario 2: Further analyses will be performed with GGIR ###"
   ]
  },
  {
   "cell_type": "code",
   "execution_count": null,
   "metadata": {},
   "outputs": [],
   "source": [
    "from pa_proc.expoapp_to_acc import expoapp_to_actigraph\n",
    "\n",
    "# Create dataframe with equidistant acceleration in three axes, resembling an Actigraph file (to be used in GGIR)\n",
    "data_act = expoapp_to_actigraph(\"C:/Users/jbuekers/Desktop/pa_proc_test data/acc_expoapp.csv\",  1, \"Europe/Madrid\")\n",
    "\n",
    "# Save dataframe to csv (optional)\n",
    "data_act.to_csv(\"C:/Users/jbuekers/Desktop/pa_proc_test data/acc_expoapp_act.csv\", index=False, header=False)"
   ]
  },
  {
   "cell_type": "markdown",
   "metadata": {},
   "source": [
    "## 2) Convert raw acceleration data to Actigraph counts and ENMO"
   ]
  },
  {
   "cell_type": "markdown",
   "metadata": {},
   "source": [
    "### 2.1) Scenario 1: Equidistant ExpoApp data in .CSV format"
   ]
  },
  {
   "cell_type": "code",
   "execution_count": null,
   "metadata": {},
   "outputs": [],
   "source": [
    "from pa_proc.acc_to_intermediate import acc_to_intermediate\n",
    "\n",
    "intermediate_60s, _ = acc_to_intermediate(\"C:/Users/jbuekers/Desktop/pa_proc_test data/acc_expoapp_eq.csv\", \n",
    "                                          'expoapp-csv', 30, 1)"
   ]
  },
  {
   "cell_type": "markdown",
   "metadata": {},
   "source": [
    "### 2.2) Scenario 2: Actigraph data in .CSV format"
   ]
  },
  {
   "cell_type": "code",
   "execution_count": 4,
   "metadata": {},
   "outputs": [],
   "source": [
    "from pa_proc.acc_to_intermediate import acc_to_intermediate\n",
    "\n",
    "intermediate_60s, _ = acc_to_intermediate(\"C:/Users/jbuekers/Desktop/pa_proc_test data/MOB033 (2022-08-08)RAW.csv\",\n",
    "                                          'actigraph-csv', 30, 1)"
   ]
  },
  {
   "cell_type": "markdown",
   "metadata": {},
   "source": [
    "### 2.3) Scenario 3: Actigraph data in .gt3x format"
   ]
  },
  {
   "cell_type": "code",
   "execution_count": 2,
   "metadata": {},
   "outputs": [],
   "source": [
    "from pa_proc.acc_to_intermediate import acc_to_intermediate\n",
    "\n",
    "intermediate_60s, _ = acc_to_intermediate(\"C:/Users/jbuekers/Desktop/pa_proc_test data/MOB_033 (2022-08-08).gt3x\",\n",
    "                                          'actigraph-gt3x', 30, 1)"
   ]
  },
  {
   "cell_type": "markdown",
   "metadata": {},
   "source": [
    "## 3) calculate physical activity variables"
   ]
  },
  {
   "cell_type": "code",
   "execution_count": 8,
   "metadata": {},
   "outputs": [
    {
     "data": {
      "text/html": [
       "<div>\n",
       "<style scoped>\n",
       "    .dataframe tbody tr th:only-of-type {\n",
       "        vertical-align: middle;\n",
       "    }\n",
       "\n",
       "    .dataframe tbody tr th {\n",
       "        vertical-align: top;\n",
       "    }\n",
       "\n",
       "    .dataframe thead th {\n",
       "        text-align: right;\n",
       "    }\n",
       "</style>\n",
       "<table border=\"1\" class=\"dataframe\">\n",
       "  <thead>\n",
       "    <tr style=\"text-align: right;\">\n",
       "      <th></th>\n",
       "      <th>weartime_choi</th>\n",
       "      <th>weartime_vanhees</th>\n",
       "      <th>counts_lpa</th>\n",
       "      <th>counts_mvpa</th>\n",
       "      <th>counts_vpa</th>\n",
       "      <th>enmo_lpa</th>\n",
       "      <th>enmo_mvpa</th>\n",
       "      <th>enmo_vpa</th>\n",
       "    </tr>\n",
       "  </thead>\n",
       "  <tbody>\n",
       "    <tr>\n",
       "      <th>2022-08-08</th>\n",
       "      <td>476.0</td>\n",
       "      <td>480.0</td>\n",
       "      <td>186.0</td>\n",
       "      <td>43.0</td>\n",
       "      <td>13.0</td>\n",
       "      <td>15.0</td>\n",
       "      <td>45.0</td>\n",
       "      <td>4.0</td>\n",
       "    </tr>\n",
       "    <tr>\n",
       "      <th>2022-08-09</th>\n",
       "      <td>559.0</td>\n",
       "      <td>615.0</td>\n",
       "      <td>240.0</td>\n",
       "      <td>40.0</td>\n",
       "      <td>7.0</td>\n",
       "      <td>9.0</td>\n",
       "      <td>43.0</td>\n",
       "      <td>5.0</td>\n",
       "    </tr>\n",
       "    <tr>\n",
       "      <th>2022-08-10</th>\n",
       "      <td>503.0</td>\n",
       "      <td>660.0</td>\n",
       "      <td>139.0</td>\n",
       "      <td>37.0</td>\n",
       "      <td>8.0</td>\n",
       "      <td>17.0</td>\n",
       "      <td>31.0</td>\n",
       "      <td>2.0</td>\n",
       "    </tr>\n",
       "    <tr>\n",
       "      <th>2022-08-11</th>\n",
       "      <td>501.0</td>\n",
       "      <td>510.0</td>\n",
       "      <td>165.0</td>\n",
       "      <td>2.0</td>\n",
       "      <td>0.0</td>\n",
       "      <td>12.0</td>\n",
       "      <td>0.0</td>\n",
       "      <td>0.0</td>\n",
       "    </tr>\n",
       "    <tr>\n",
       "      <th>2022-08-12</th>\n",
       "      <td>616.0</td>\n",
       "      <td>675.0</td>\n",
       "      <td>176.0</td>\n",
       "      <td>83.0</td>\n",
       "      <td>17.0</td>\n",
       "      <td>16.0</td>\n",
       "      <td>81.0</td>\n",
       "      <td>3.0</td>\n",
       "    </tr>\n",
       "    <tr>\n",
       "      <th>2022-08-13</th>\n",
       "      <td>410.0</td>\n",
       "      <td>465.0</td>\n",
       "      <td>150.0</td>\n",
       "      <td>10.0</td>\n",
       "      <td>0.0</td>\n",
       "      <td>7.0</td>\n",
       "      <td>12.0</td>\n",
       "      <td>0.0</td>\n",
       "    </tr>\n",
       "    <tr>\n",
       "      <th>2022-08-14</th>\n",
       "      <td>698.0</td>\n",
       "      <td>735.0</td>\n",
       "      <td>149.0</td>\n",
       "      <td>5.0</td>\n",
       "      <td>0.0</td>\n",
       "      <td>5.0</td>\n",
       "      <td>7.0</td>\n",
       "      <td>0.0</td>\n",
       "    </tr>\n",
       "    <tr>\n",
       "      <th>2022-08-15</th>\n",
       "      <td>723.0</td>\n",
       "      <td>765.0</td>\n",
       "      <td>123.0</td>\n",
       "      <td>2.0</td>\n",
       "      <td>0.0</td>\n",
       "      <td>2.0</td>\n",
       "      <td>0.0</td>\n",
       "      <td>0.0</td>\n",
       "    </tr>\n",
       "    <tr>\n",
       "      <th>2022-08-16</th>\n",
       "      <td>760.0</td>\n",
       "      <td>478.0</td>\n",
       "      <td>68.0</td>\n",
       "      <td>1.0</td>\n",
       "      <td>0.0</td>\n",
       "      <td>1.0</td>\n",
       "      <td>0.0</td>\n",
       "      <td>0.0</td>\n",
       "    </tr>\n",
       "  </tbody>\n",
       "</table>\n",
       "</div>"
      ],
      "text/plain": [
       "            weartime_choi  weartime_vanhees  counts_lpa  counts_mvpa  \\\n",
       "2022-08-08          476.0             480.0       186.0         43.0   \n",
       "2022-08-09          559.0             615.0       240.0         40.0   \n",
       "2022-08-10          503.0             660.0       139.0         37.0   \n",
       "2022-08-11          501.0             510.0       165.0          2.0   \n",
       "2022-08-12          616.0             675.0       176.0         83.0   \n",
       "2022-08-13          410.0             465.0       150.0         10.0   \n",
       "2022-08-14          698.0             735.0       149.0          5.0   \n",
       "2022-08-15          723.0             765.0       123.0          2.0   \n",
       "2022-08-16          760.0             478.0        68.0          1.0   \n",
       "\n",
       "            counts_vpa  enmo_lpa  enmo_mvpa  enmo_vpa  \n",
       "2022-08-08        13.0      15.0       45.0       4.0  \n",
       "2022-08-09         7.0       9.0       43.0       5.0  \n",
       "2022-08-10         8.0      17.0       31.0       2.0  \n",
       "2022-08-11         0.0      12.0        0.0       0.0  \n",
       "2022-08-12        17.0      16.0       81.0       3.0  \n",
       "2022-08-13         0.0       7.0       12.0       0.0  \n",
       "2022-08-14         0.0       5.0        7.0       0.0  \n",
       "2022-08-15         0.0       2.0        0.0       0.0  \n",
       "2022-08-16         0.0       1.0        0.0       0.0  "
      ]
     },
     "execution_count": 8,
     "metadata": {},
     "output_type": "execute_result"
    }
   ],
   "source": [
    "# Identify different days in data\n",
    "days_measured = intermediate_60s.index.map(pd.Timestamp.date).unique()\n",
    " \n",
    "# Create results dataframe\n",
    "results = pd.DataFrame(index=days_measured)\n",
    " \n",
    "# Calculate time in different PA domains (cut-offs used from document Gabriela)\n",
    "for day_loop in days_measured:\n",
    "\t\n",
    "\tday_data = intermediate_60s[(intermediate_60s.index.date == day_loop)]\n",
    "\t\n",
    "\tresults.loc[day_loop, 'weartime_choi'] = np.sum(day_data.wear_choi == 1)\n",
    "\tresults.loc[day_loop, 'weartime_vanhees'] = np.sum(day_data.wear_vanhees == 1)\n",
    "\t\n",
    "\tday_data_wear_choi = day_data[day_data.wear_choi == 1]\n",
    "\tday_data_wear_vanhees = day_data[day_data.wear_vanhees == 1]\n",
    "\t\n",
    "\tresults.loc[day_loop, 'counts_lpa'] = np.sum((day_data_wear_choi.counts_vm > 200) & (day_data_wear_choi.counts_vm <= 2690))\n",
    "\tresults.loc[day_loop, 'counts_mvpa'] = np.sum(day_data_wear_choi.counts_vm > 2690)\n",
    "\tresults.loc[day_loop, 'counts_vpa'] = np.sum(day_data_wear_choi.counts_vm > 6166)\n",
    " \n",
    " \n",
    "\tresults.loc[day_loop, 'enmo_lpa'] = np.sum((day_data_wear_vanhees.enmo > 47.4) & (day_data_wear_vanhees.enmo < 69.1))\n",
    "\tresults.loc[day_loop, 'enmo_mvpa'] = np.sum(day_data_wear_vanhees.enmo >= 69.1)\n",
    "\tresults.loc[day_loop, 'enmo_vpa'] = np.sum(day_data_wear_vanhees.enmo >= 258.7)\n",
    "\n",
    "results"
   ]
  }
 ],
 "metadata": {
  "kernelspec": {
   "display_name": "Python 3",
   "language": "python",
   "name": "python3"
  },
  "language_info": {
   "codemirror_mode": {
    "name": "ipython",
    "version": 3
   },
   "file_extension": ".py",
   "mimetype": "text/x-python",
   "name": "python",
   "nbconvert_exporter": "python",
   "pygments_lexer": "ipython3",
   "version": "3.12.4"
  }
 },
 "nbformat": 4,
 "nbformat_minor": 2
}
