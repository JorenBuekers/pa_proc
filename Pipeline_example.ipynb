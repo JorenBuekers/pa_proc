{
 "cells": [
  {
   "cell_type": "code",
   "execution_count": 1,
   "metadata": {},
   "outputs": [],
   "source": [
    "import pandas as pd\n",
    "import numpy as np"
   ]
  },
  {
   "cell_type": "markdown",
   "metadata": {},
   "source": [
    "## 1) Only when using ExpoApp data: \n",
    "## Convert ExpoApp data to equidistant time series "
   ]
  },
  {
   "cell_type": "markdown",
   "metadata": {},
   "source": [
    "#### 1.1) Scenario 1: Further analyses will be performed with the pa_proc pipeline ###"
   ]
  },
  {
   "cell_type": "code",
   "execution_count": null,
   "metadata": {},
   "outputs": [],
   "source": [
    "from pa_proc.expoapp_to_acc import expoapp_to_equidistant\n",
    "\n",
    "# Create dataframe with equidistant acceleration in three axes\n",
    "data_eq = expoapp_to_equidistant(\"C:/Users/jbuekers/Desktop/pa_proc_test data/acc_expoapp.csv\", \n",
    "                                 gap_size=1, time_zone=\"Europe/Madrid\")\n",
    "\n",
    "# Save dataframe to csv (optional)\n",
    "data_eq.to_csv(\"C:/Users/jbuekers/Desktop/pa_proc_test data/acc_expoapp_eq.csv\", index=False, header=False)"
   ]
  },
  {
   "cell_type": "markdown",
   "metadata": {},
   "source": [
    "#### 1.2) Scenario 2: Further analyses will be performed with GGIR ###"
   ]
  },
  {
   "cell_type": "code",
   "execution_count": null,
   "metadata": {},
   "outputs": [],
   "source": [
    "from pa_proc.expoapp_to_acc import expoapp_to_actigraph\n",
    "\n",
    "# Create dataframe with equidistant acceleration in three axes, resembling an Actigraph file (to be used in GGIR)\n",
    "data_act = expoapp_to_actigraph(\"C:/Users/jbuekers/Desktop/pa_proc_test data/acc_expoapp.csv\",  \n",
    "                                gap_size=1, time_zone=\"Europe/Madrid\")\n",
    "\n",
    "# Save dataframe to csv (optional)\n",
    "data_act.to_csv(\"C:/Users/jbuekers/Desktop/pa_proc_test data/acc_expoapp_act.csv\", index=False, header=False)"
   ]
  },
  {
   "cell_type": "markdown",
   "metadata": {},
   "source": [
    "## 2) Convert raw acceleration data to Actigraph counts and ENMO"
   ]
  },
  {
   "cell_type": "markdown",
   "metadata": {},
   "source": [
    "#### 2.1) Scenario 1: Equidistant ExpoApp data 30 Hz in .csv format"
   ]
  },
  {
   "cell_type": "code",
   "execution_count": null,
   "metadata": {},
   "outputs": [],
   "source": [
    "from pa_proc.acc_to_intermediate import acc_to_intermediate\n",
    "\n",
    "intermediate_60s, _ = acc_to_intermediate(\"C:/Users/jbuekers/Desktop/pa_proc_test data/acc_expoapp_eq.csv\", \n",
    "                                          'expoapp-csv', sampling_freq=30, autocalibration=1, location=\"lumbar\")"
   ]
  },
  {
   "cell_type": "markdown",
   "metadata": {},
   "source": [
    "#### 2.2) Scenario 2: Actigraph data 30 Hz in .csv format"
   ]
  },
  {
   "cell_type": "code",
   "execution_count": null,
   "metadata": {},
   "outputs": [],
   "source": [
    "from pa_proc.acc_to_intermediate import acc_to_intermediate\n",
    "\n",
    "intermediate_60s, _ = acc_to_intermediate(\"C:/Users/jbuekers/Desktop/pa_proc_test data/MOB033 (2022-08-08)RAW.csv\",\n",
    "                                          'actigraph-csv', sampling_freq=30, autocalibration=1, location=\"hip\")"
   ]
  },
  {
   "cell_type": "markdown",
   "metadata": {},
   "source": [
    "#### 2.3) Scenario 3: Actigraph data at 30 Hz in .gt3x format"
   ]
  },
  {
   "cell_type": "code",
   "execution_count": null,
   "metadata": {},
   "outputs": [],
   "source": [
    "from pa_proc.acc_to_intermediate import acc_to_intermediate\n",
    "\n",
    "intermediate_60s, _ = acc_to_intermediate(\"C:/Users/jbuekers/Desktop/pa_proc_test data/MOB_033 (2022-08-08).gt3x\",\n",
    "                                          'actigraph-gt3x', sampling_freq=30, autocalibration=1, location=\"hip\")"
   ]
  },
  {
   "cell_type": "markdown",
   "metadata": {},
   "source": [
    "#### 2.4) Scenario 4: Axivity data at 100 Hz in .cwa format"
   ]
  },
  {
   "cell_type": "code",
   "execution_count": 5,
   "metadata": {},
   "outputs": [
    {
     "name": "stderr",
     "output_type": "stream",
     "text": [
      "c:\\Anaconda\\Lib\\site-packages\\skdh\\preprocessing\\calibrate.py:192: UserWarning: Recalibration not done with 360 - 372 hours due to insufficient non-movement data available\n",
      "  warn(\n"
     ]
    }
   ],
   "source": [
    "from pa_proc.acc_to_intermediate import acc_to_intermediate\n",
    "\n",
    "intermediate_60s, _ = acc_to_intermediate(\"C:/Users/jbuekers/Desktop/pa_proc_test data/6017276_belt.cwa\",\n",
    "                                          'axivity-cwa', sampling_freq=100, autocalibration=1, location=\"lumbar\")"
   ]
  },
  {
   "cell_type": "markdown",
   "metadata": {},
   "source": [
    "#### 2.5) Scenario 5: Matrix data at 100 Hz in .csv format"
   ]
  },
  {
   "cell_type": "code",
   "execution_count": 7,
   "metadata": {},
   "outputs": [
    {
     "name": "stderr",
     "output_type": "stream",
     "text": [
      "ERROR:root:Epoch data contains 18 samples, which is less than the 90 minimum required samples\n",
      "c:\\Anaconda\\Lib\\site-packages\\skdh\\preprocessing\\calibrate.py:163: UserWarning: Less than 72 hours of data (30.666666666666668 hours). No Calibration performed\n",
      "  warn(\n"
     ]
    }
   ],
   "source": [
    "from pa_proc.acc_to_intermediate import acc_to_intermediate\n",
    "\n",
    "intermediate_60s, enmo_10s = acc_to_intermediate(\"C:/Users/jbuekers/Desktop/pa_proc_test data/MATA00-2002975-20250312-125129.csv\",\n",
    "                                         device = 'matrix-csv', sampling_freq=100, autocalibration=1, location=\"wrist\")"
   ]
  },
  {
   "cell_type": "code",
   "execution_count": 9,
   "metadata": {},
   "outputs": [
    {
     "data": {
      "text/html": [
       "<div>\n",
       "<style scoped>\n",
       "    .dataframe tbody tr th:only-of-type {\n",
       "        vertical-align: middle;\n",
       "    }\n",
       "\n",
       "    .dataframe tbody tr th {\n",
       "        vertical-align: top;\n",
       "    }\n",
       "\n",
       "    .dataframe thead th {\n",
       "        text-align: right;\n",
       "    }\n",
       "</style>\n",
       "<table border=\"1\" class=\"dataframe\">\n",
       "  <thead>\n",
       "    <tr style=\"text-align: right;\">\n",
       "      <th></th>\n",
       "      <th>enmo</th>\n",
       "      <th>wear_vanhees</th>\n",
       "    </tr>\n",
       "  </thead>\n",
       "  <tbody>\n",
       "    <tr>\n",
       "      <th>2025-03-12 11:52:00</th>\n",
       "      <td>0.764856</td>\n",
       "      <td>1.0</td>\n",
       "    </tr>\n",
       "    <tr>\n",
       "      <th>2025-03-12 11:52:10</th>\n",
       "      <td>79.024852</td>\n",
       "      <td>1.0</td>\n",
       "    </tr>\n",
       "    <tr>\n",
       "      <th>2025-03-12 11:52:20</th>\n",
       "      <td>44.173621</td>\n",
       "      <td>1.0</td>\n",
       "    </tr>\n",
       "    <tr>\n",
       "      <th>2025-03-12 11:52:30</th>\n",
       "      <td>36.095922</td>\n",
       "      <td>1.0</td>\n",
       "    </tr>\n",
       "    <tr>\n",
       "      <th>2025-03-12 11:52:40</th>\n",
       "      <td>22.090720</td>\n",
       "      <td>1.0</td>\n",
       "    </tr>\n",
       "    <tr>\n",
       "      <th>...</th>\n",
       "      <td>...</td>\n",
       "      <td>...</td>\n",
       "    </tr>\n",
       "    <tr>\n",
       "      <th>2025-03-12 12:09:40</th>\n",
       "      <td>34.200497</td>\n",
       "      <td>1.0</td>\n",
       "    </tr>\n",
       "    <tr>\n",
       "      <th>2025-03-12 12:09:50</th>\n",
       "      <td>7.533318</td>\n",
       "      <td>1.0</td>\n",
       "    </tr>\n",
       "    <tr>\n",
       "      <th>2025-03-12 12:10:00</th>\n",
       "      <td>10.275294</td>\n",
       "      <td>1.0</td>\n",
       "    </tr>\n",
       "    <tr>\n",
       "      <th>2025-03-12 12:10:10</th>\n",
       "      <td>0.482260</td>\n",
       "      <td>1.0</td>\n",
       "    </tr>\n",
       "    <tr>\n",
       "      <th>2025-03-12 12:10:20</th>\n",
       "      <td>0.000000</td>\n",
       "      <td>1.0</td>\n",
       "    </tr>\n",
       "  </tbody>\n",
       "</table>\n",
       "<p>111 rows × 2 columns</p>\n",
       "</div>"
      ],
      "text/plain": [
       "                          enmo  wear_vanhees\n",
       "2025-03-12 11:52:00   0.764856           1.0\n",
       "2025-03-12 11:52:10  79.024852           1.0\n",
       "2025-03-12 11:52:20  44.173621           1.0\n",
       "2025-03-12 11:52:30  36.095922           1.0\n",
       "2025-03-12 11:52:40  22.090720           1.0\n",
       "...                        ...           ...\n",
       "2025-03-12 12:09:40  34.200497           1.0\n",
       "2025-03-12 12:09:50   7.533318           1.0\n",
       "2025-03-12 12:10:00  10.275294           1.0\n",
       "2025-03-12 12:10:10   0.482260           1.0\n",
       "2025-03-12 12:10:20   0.000000           1.0\n",
       "\n",
       "[111 rows x 2 columns]"
      ]
     },
     "execution_count": 9,
     "metadata": {},
     "output_type": "execute_result"
    }
   ],
   "source": [
    "enmo_10s"
   ]
  },
  {
   "cell_type": "markdown",
   "metadata": {},
   "source": [
    "## 3) calculate physical activity variables"
   ]
  },
  {
   "cell_type": "code",
   "execution_count": 9,
   "metadata": {},
   "outputs": [],
   "source": [
    "# Identify different days in data\n",
    "days_measured = intermediate_60s.index.map(pd.Timestamp.date).unique()\n",
    " \n",
    "# Create results dataframe\n",
    "results = pd.DataFrame(index=days_measured)\n",
    " \n",
    "# Calculate time in different PA domains (cut-offs used from document Gabriela)\n",
    "for day_loop in days_measured:\n",
    "\t\n",
    "\tday_data = intermediate_60s[(intermediate_60s.index.date == day_loop)]\n",
    "\t\n",
    "\tresults.loc[day_loop, 'weartime_choi'] = np.sum(day_data.wear_choi == 1)\n",
    "\tresults.loc[day_loop, 'weartime_vanhees'] = np.sum(day_data.wear_vanhees == 1)\n",
    "\t\n",
    "\tday_data_wear_choi = day_data[day_data.wear_choi == 1]\n",
    "\tday_data_wear_vanhees = day_data[day_data.wear_vanhees == 1]\n",
    "\t\n",
    "\tresults.loc[day_loop, 'counts_lpa'] = np.sum((day_data_wear_choi.counts_vm > 200) & (day_data_wear_choi.counts_vm <= 2690))\n",
    "\tresults.loc[day_loop, 'counts_mvpa'] = np.sum(day_data_wear_choi.counts_vm > 2690)\n",
    "\tresults.loc[day_loop, 'counts_vpa'] = np.sum(day_data_wear_choi.counts_vm > 6166)\n",
    " \n",
    " \n",
    "\tresults.loc[day_loop, 'enmo_lpa'] = np.sum((day_data_wear_vanhees.enmo > 47.4) & (day_data_wear_vanhees.enmo < 69.1))\n",
    "\tresults.loc[day_loop, 'enmo_mvpa'] = np.sum(day_data_wear_vanhees.enmo >= 69.1)\n",
    "\tresults.loc[day_loop, 'enmo_vpa'] = np.sum(day_data_wear_vanhees.enmo >= 258.7)"
   ]
  }
 ],
 "metadata": {
  "kernelspec": {
   "display_name": "base",
   "language": "python",
   "name": "python3"
  },
  "language_info": {
   "codemirror_mode": {
    "name": "ipython",
    "version": 3
   },
   "file_extension": ".py",
   "mimetype": "text/x-python",
   "name": "python",
   "nbconvert_exporter": "python",
   "pygments_lexer": "ipython3",
   "version": "3.12.4"
  }
 },
 "nbformat": 4,
 "nbformat_minor": 2
}
