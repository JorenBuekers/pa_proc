{
 "cells": [
  {
   "cell_type": "code",
   "execution_count": 1,
   "metadata": {},
   "outputs": [],
   "source": [
    "import pandas as pd\n",
    "import numpy as np"
   ]
  },
  {
   "cell_type": "markdown",
   "metadata": {},
   "source": [
    "## 1) Only when using ExpoApp data: \n",
    "## Convert ExpoApp data to equidistant time series "
   ]
  },
  {
   "cell_type": "markdown",
   "metadata": {},
   "source": [
    "#### 1.1) Scenario 1: Further analyses will be performed with the pa_proc pipeline ###"
   ]
  },
  {
   "cell_type": "code",
   "execution_count": null,
   "metadata": {},
   "outputs": [],
   "source": [
    "from pa_proc.expoapp_to_acc import expoapp_to_equidistant\n",
    "\n",
    "# Create dataframe with equidistant acceleration in three axes\n",
    "data_eq = expoapp_to_equidistant(\"C:/Users/jbuekers/Desktop/pa_proc_test data/acc_expoapp.csv\", \n",
    "                                 gap_size=1, time_zone=\"Europe/Madrid\")\n",
    "\n",
    "# Save dataframe to csv (optional)\n",
    "data_eq.to_csv(\"C:/Users/jbuekers/Desktop/pa_proc_test data/acc_expoapp_eq.csv\", index=False, header=False)"
   ]
  },
  {
   "cell_type": "markdown",
   "metadata": {},
   "source": [
    "#### 1.2) Scenario 2: Further analyses will be performed with GGIR ###"
   ]
  },
  {
   "cell_type": "code",
   "execution_count": null,
   "metadata": {},
   "outputs": [],
   "source": [
    "from pa_proc.expoapp_to_acc import expoapp_to_actigraph\n",
    "\n",
    "# Create dataframe with equidistant acceleration in three axes, resembling an Actigraph file (to be used in GGIR)\n",
    "data_act = expoapp_to_actigraph(\"C:/Users/jbuekers/Desktop/pa_proc_test data/acc_expoapp.csv\",  \n",
    "                                gap_size=1, time_zone=\"Europe/Madrid\")\n",
    "\n",
    "# Save dataframe to csv (optional)\n",
    "data_act.to_csv(\"C:/Users/jbuekers/Desktop/pa_proc_test data/acc_expoapp_act.csv\", index=False, header=False)"
   ]
  },
  {
   "cell_type": "markdown",
   "metadata": {},
   "source": [
    "## 2) Convert raw acceleration data to Actigraph counts and ENMO"
   ]
  },
  {
   "cell_type": "markdown",
   "metadata": {},
   "source": [
    "#### 2.1) Scenario 1: Equidistant ExpoApp data 30 Hz in .csv format"
   ]
  },
  {
   "cell_type": "code",
   "execution_count": null,
   "metadata": {},
   "outputs": [],
   "source": [
    "from pa_proc.acc_to_intermediate import acc_to_intermediate\n",
    "\n",
    "intermediate_60s, _ = acc_to_intermediate(\"C:/Users/jbuekers/Desktop/pa_proc_test data/acc_expoapp_eq.csv\", \n",
    "                                          'expoapp-csv', sampling_freq=30, autocalibration=1)"
   ]
  },
  {
   "cell_type": "markdown",
   "metadata": {},
   "source": [
    "#### 2.2) Scenario 2: Actigraph data 30 Hz in .csv format"
   ]
  },
  {
   "cell_type": "code",
   "execution_count": null,
   "metadata": {},
   "outputs": [],
   "source": [
    "from pa_proc.acc_to_intermediate import acc_to_intermediate\n",
    "\n",
    "intermediate_60s, _ = acc_to_intermediate(\"C:/Users/jbuekers/Desktop/pa_proc_test data/MOB033 (2022-08-08)RAW.csv\",\n",
    "                                          'actigraph-csv', sampling_freq=30, autocalibration=1)"
   ]
  },
  {
   "cell_type": "markdown",
   "metadata": {},
   "source": [
    "#### 2.3) Scenario 3: Actigraph data at 30 Hz in .gt3x format"
   ]
  },
  {
   "cell_type": "code",
   "execution_count": null,
   "metadata": {},
   "outputs": [],
   "source": [
    "from pa_proc.acc_to_intermediate import acc_to_intermediate\n",
    "\n",
    "intermediate_60s, _ = acc_to_intermediate(\"C:/Users/jbuekers/Desktop/pa_proc_test data/MOB_033 (2022-08-08).gt3x\",\n",
    "                                          'actigraph-gt3x', sampling_freq=30, autocalibration=1)"
   ]
  },
  {
   "cell_type": "markdown",
   "metadata": {},
   "source": [
    "#### 2.4) Scenario 4: Axivity data at 100 Hz in .cwa format"
   ]
  },
  {
   "cell_type": "code",
   "execution_count": 10,
   "metadata": {},
   "outputs": [
    {
     "name": "stderr",
     "output_type": "stream",
     "text": [
      "c:\\Anaconda\\Lib\\site-packages\\skdh\\preprocessing\\calibrate.py:192: UserWarning: Recalibration not done with 360 - 372 hours due to insufficient non-movement data available\n",
      "  warn(\n"
     ]
    }
   ],
   "source": [
    "from pa_proc.acc_to_intermediate import acc_to_intermediate\n",
    "\n",
    "intermediate_60s, _ = acc_to_intermediate(\"C:/Users/jbuekers/Desktop/pa_proc_test data/6017276_belt.cwa\",\n",
    "                                          'axivity-cwa', sampling_freq=100, autocalibration=1)"
   ]
  },
  {
   "cell_type": "markdown",
   "metadata": {},
   "source": [
    "## 3) calculate physical activity variables"
   ]
  },
  {
   "cell_type": "code",
   "execution_count": 9,
   "metadata": {},
   "outputs": [],
   "source": [
    "# Identify different days in data\n",
    "days_measured = intermediate_60s.index.map(pd.Timestamp.date).unique()\n",
    " \n",
    "# Create results dataframe\n",
    "results = pd.DataFrame(index=days_measured)\n",
    " \n",
    "# Calculate time in different PA domains (cut-offs used from document Gabriela)\n",
    "for day_loop in days_measured:\n",
    "\t\n",
    "\tday_data = intermediate_60s[(intermediate_60s.index.date == day_loop)]\n",
    "\t\n",
    "\tresults.loc[day_loop, 'weartime_choi'] = np.sum(day_data.wear_choi == 1)\n",
    "\tresults.loc[day_loop, 'weartime_vanhees'] = np.sum(day_data.wear_vanhees == 1)\n",
    "\t\n",
    "\tday_data_wear_choi = day_data[day_data.wear_choi == 1]\n",
    "\tday_data_wear_vanhees = day_data[day_data.wear_vanhees == 1]\n",
    "\t\n",
    "\tresults.loc[day_loop, 'counts_lpa'] = np.sum((day_data_wear_choi.counts_vm > 200) & (day_data_wear_choi.counts_vm <= 2690))\n",
    "\tresults.loc[day_loop, 'counts_mvpa'] = np.sum(day_data_wear_choi.counts_vm > 2690)\n",
    "\tresults.loc[day_loop, 'counts_vpa'] = np.sum(day_data_wear_choi.counts_vm > 6166)\n",
    " \n",
    " \n",
    "\tresults.loc[day_loop, 'enmo_lpa'] = np.sum((day_data_wear_vanhees.enmo > 47.4) & (day_data_wear_vanhees.enmo < 69.1))\n",
    "\tresults.loc[day_loop, 'enmo_mvpa'] = np.sum(day_data_wear_vanhees.enmo >= 69.1)\n",
    "\tresults.loc[day_loop, 'enmo_vpa'] = np.sum(day_data_wear_vanhees.enmo >= 258.7)"
   ]
  }
 ],
 "metadata": {
  "kernelspec": {
   "display_name": "base",
   "language": "python",
   "name": "python3"
  },
  "language_info": {
   "codemirror_mode": {
    "name": "ipython",
    "version": 3
   },
   "file_extension": ".py",
   "mimetype": "text/x-python",
   "name": "python",
   "nbconvert_exporter": "python",
   "pygments_lexer": "ipython3",
   "version": "3.12.4"
  }
 },
 "nbformat": 4,
 "nbformat_minor": 2
}
