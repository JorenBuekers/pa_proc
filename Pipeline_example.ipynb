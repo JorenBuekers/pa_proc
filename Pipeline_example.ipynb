{
 "cells": [
  {
   "cell_type": "code",
   "execution_count": 1,
   "metadata": {},
   "outputs": [],
   "source": [
    "import pandas as pd\n",
    "import numpy as np"
   ]
  },
  {
   "cell_type": "markdown",
   "metadata": {},
   "source": [
    "## 1) Only when using ExpoApp data: \n",
    "## Convert ExpoApp data to equidistant time series "
   ]
  },
  {
   "cell_type": "markdown",
   "metadata": {},
   "source": [
    "### 1.1) Scenario 1: Further analyses will be performed with the pa_proc pipeline ###"
   ]
  },
  {
   "cell_type": "code",
   "execution_count": null,
   "metadata": {},
   "outputs": [],
   "source": [
    "from pa_proc.expoapp_to_acc import expoapp_to_equidistant\n",
    "\n",
    "# Create dataframe with equidistant acceleration in three axes\n",
    "data_eq = expoapp_to_equidistant(\"C:/Users/jbuekers/Desktop/Sab_339-Mob1-1/acc.csv\", 1, \"Europe/Madrid\")\n",
    "\n",
    "# Save dataframe to csv (optional)\n",
    "data_eq.to_csv(\"C:/Users/jbuekers/Desktop/Sab_339-Mob1-1/acc_eq.csv\", index=False, header=False)"
   ]
  },
  {
   "cell_type": "markdown",
   "metadata": {},
   "source": [
    "### 1.2) Scenario 2: Further analyses will be performed with GGIR ###"
   ]
  },
  {
   "cell_type": "code",
   "execution_count": null,
   "metadata": {},
   "outputs": [],
   "source": [
    "from pa_proc.expoapp_to_acc import expoapp_to_actigraph\n",
    "\n",
    "# Create dataframe with equidistant acceleration in three axes, resembling an Actigraph file (to be used in GGIR)\n",
    "data_act = expoapp_to_actigraph(\"C:/Users/jbuekers/Desktop/Sab_339-Mob1-1/acc.csv\",  1, \"Europe/Madrid\")\n",
    "\n",
    "# Save dataframe to csv (optional)\n",
    "data_act.to_csv(\"C:/Users/jbuekers/Desktop/Sab_339-Mob1-1/acc_act.csv\", index=False, header=False)"
   ]
  },
  {
   "cell_type": "markdown",
   "metadata": {},
   "source": [
    "## 2) Convert raw acceleration data to Actigraph counts and ENMO"
   ]
  },
  {
   "cell_type": "code",
   "execution_count": null,
   "metadata": {},
   "outputs": [],
   "source": [
    "from pa_proc.acc_to_intermediate import acc_to_counts_enmo\n",
    "\n",
    "# Specify path of where data is saved\n",
    "path = \"C:/Users/jbuekers/Desktop/Sab_339-Mob1-1/\"\n",
    "\n",
    "[enmo_10s, counts_enmo] = acc_to_intermediate(path + \"acc_prep2.csv\", 'expoapp', 30, 1)"
   ]
  },
  {
   "cell_type": "markdown",
   "metadata": {},
   "source": [
    "## 3) calculate physical activity variables"
   ]
  },
  {
   "cell_type": "code",
   "execution_count": 6,
   "metadata": {},
   "outputs": [
    {
     "data": {
      "text/html": [
       "<div>\n",
       "<style scoped>\n",
       "    .dataframe tbody tr th:only-of-type {\n",
       "        vertical-align: middle;\n",
       "    }\n",
       "\n",
       "    .dataframe tbody tr th {\n",
       "        vertical-align: top;\n",
       "    }\n",
       "\n",
       "    .dataframe thead th {\n",
       "        text-align: right;\n",
       "    }\n",
       "</style>\n",
       "<table border=\"1\" class=\"dataframe\">\n",
       "  <thead>\n",
       "    <tr style=\"text-align: right;\">\n",
       "      <th></th>\n",
       "      <th>weartime_choi</th>\n",
       "      <th>weartime_vanhees</th>\n",
       "      <th>counts_lpa</th>\n",
       "      <th>counts_mvpa</th>\n",
       "      <th>counts_vpa</th>\n",
       "      <th>enmo_lpa</th>\n",
       "      <th>enmo_mvpa</th>\n",
       "      <th>enmo_vpa</th>\n",
       "    </tr>\n",
       "  </thead>\n",
       "  <tbody>\n",
       "    <tr>\n",
       "      <th>2022-03-09</th>\n",
       "      <td>814.0</td>\n",
       "      <td>840.0</td>\n",
       "      <td>277.0</td>\n",
       "      <td>162.0</td>\n",
       "      <td>36.0</td>\n",
       "      <td>41.0</td>\n",
       "      <td>157.0</td>\n",
       "      <td>0.0</td>\n",
       "    </tr>\n",
       "    <tr>\n",
       "      <th>2022-03-10</th>\n",
       "      <td>752.0</td>\n",
       "      <td>780.0</td>\n",
       "      <td>300.0</td>\n",
       "      <td>157.0</td>\n",
       "      <td>44.0</td>\n",
       "      <td>47.0</td>\n",
       "      <td>161.0</td>\n",
       "      <td>3.0</td>\n",
       "    </tr>\n",
       "    <tr>\n",
       "      <th>2022-03-11</th>\n",
       "      <td>509.0</td>\n",
       "      <td>568.0</td>\n",
       "      <td>164.0</td>\n",
       "      <td>64.0</td>\n",
       "      <td>7.0</td>\n",
       "      <td>29.0</td>\n",
       "      <td>68.0</td>\n",
       "      <td>0.0</td>\n",
       "    </tr>\n",
       "    <tr>\n",
       "      <th>2022-03-12</th>\n",
       "      <td>215.0</td>\n",
       "      <td>257.0</td>\n",
       "      <td>62.0</td>\n",
       "      <td>2.0</td>\n",
       "      <td>0.0</td>\n",
       "      <td>9.0</td>\n",
       "      <td>1.0</td>\n",
       "      <td>0.0</td>\n",
       "    </tr>\n",
       "    <tr>\n",
       "      <th>2022-03-13</th>\n",
       "      <td>347.0</td>\n",
       "      <td>375.0</td>\n",
       "      <td>96.0</td>\n",
       "      <td>49.0</td>\n",
       "      <td>32.0</td>\n",
       "      <td>10.0</td>\n",
       "      <td>47.0</td>\n",
       "      <td>0.0</td>\n",
       "    </tr>\n",
       "    <tr>\n",
       "      <th>2022-03-14</th>\n",
       "      <td>217.0</td>\n",
       "      <td>315.0</td>\n",
       "      <td>74.0</td>\n",
       "      <td>72.0</td>\n",
       "      <td>30.0</td>\n",
       "      <td>5.0</td>\n",
       "      <td>72.0</td>\n",
       "      <td>2.0</td>\n",
       "    </tr>\n",
       "    <tr>\n",
       "      <th>2022-03-15</th>\n",
       "      <td>788.0</td>\n",
       "      <td>825.0</td>\n",
       "      <td>218.0</td>\n",
       "      <td>136.0</td>\n",
       "      <td>22.0</td>\n",
       "      <td>41.0</td>\n",
       "      <td>143.0</td>\n",
       "      <td>1.0</td>\n",
       "    </tr>\n",
       "    <tr>\n",
       "      <th>2022-03-16</th>\n",
       "      <td>754.0</td>\n",
       "      <td>795.0</td>\n",
       "      <td>195.0</td>\n",
       "      <td>116.0</td>\n",
       "      <td>5.0</td>\n",
       "      <td>20.0</td>\n",
       "      <td>114.0</td>\n",
       "      <td>0.0</td>\n",
       "    </tr>\n",
       "    <tr>\n",
       "      <th>2022-03-17</th>\n",
       "      <td>162.0</td>\n",
       "      <td>162.0</td>\n",
       "      <td>33.0</td>\n",
       "      <td>17.0</td>\n",
       "      <td>0.0</td>\n",
       "      <td>5.0</td>\n",
       "      <td>19.0</td>\n",
       "      <td>0.0</td>\n",
       "    </tr>\n",
       "  </tbody>\n",
       "</table>\n",
       "</div>"
      ],
      "text/plain": [
       "            weartime_choi  weartime_vanhees  counts_lpa  counts_mvpa  \\\n",
       "2022-03-09          814.0             840.0       277.0        162.0   \n",
       "2022-03-10          752.0             780.0       300.0        157.0   \n",
       "2022-03-11          509.0             568.0       164.0         64.0   \n",
       "2022-03-12          215.0             257.0        62.0          2.0   \n",
       "2022-03-13          347.0             375.0        96.0         49.0   \n",
       "2022-03-14          217.0             315.0        74.0         72.0   \n",
       "2022-03-15          788.0             825.0       218.0        136.0   \n",
       "2022-03-16          754.0             795.0       195.0        116.0   \n",
       "2022-03-17          162.0             162.0        33.0         17.0   \n",
       "\n",
       "            counts_vpa  enmo_lpa  enmo_mvpa  enmo_vpa  \n",
       "2022-03-09        36.0      41.0      157.0       0.0  \n",
       "2022-03-10        44.0      47.0      161.0       3.0  \n",
       "2022-03-11         7.0      29.0       68.0       0.0  \n",
       "2022-03-12         0.0       9.0        1.0       0.0  \n",
       "2022-03-13        32.0      10.0       47.0       0.0  \n",
       "2022-03-14        30.0       5.0       72.0       2.0  \n",
       "2022-03-15        22.0      41.0      143.0       1.0  \n",
       "2022-03-16         5.0      20.0      114.0       0.0  \n",
       "2022-03-17         0.0       5.0       19.0       0.0  "
      ]
     },
     "execution_count": 6,
     "metadata": {},
     "output_type": "execute_result"
    }
   ],
   "source": [
    "\n",
    "# Identify different days in data\n",
    "days_measured = counts_enmo.index.map(pd.Timestamp.date).unique()\n",
    " \n",
    "# Create results dataframe\n",
    "results = pd.DataFrame(index=days_measured)\n",
    " \n",
    "# Calculate time in different PA domains (cut-offs used from document Gabriela)\n",
    "for day_loop in days_measured:\n",
    "\t\n",
    "\tday_data = counts_enmo[(counts_enmo.index.date == day_loop)]\n",
    "\t\n",
    "\tresults.loc[day_loop, 'weartime_choi'] = np.sum(day_data.wear_choi == 1)\n",
    "\tresults.loc[day_loop, 'weartime_vanhees'] = np.sum(day_data.wear_vanhees == 1)\n",
    "\t\n",
    "\tday_data_wear_choi = day_data[day_data.wear_choi == 1]\n",
    "\tday_data_wear_vanhees = day_data[day_data.wear_vanhees == 1]\n",
    "\t\n",
    "\tresults.loc[day_loop, 'counts_lpa'] = np.sum((day_data_wear_choi.counts_vm > 200) & (day_data_wear_choi.counts_vm <= 2690))\n",
    "\tresults.loc[day_loop, 'counts_mvpa'] = np.sum(day_data_wear_choi.counts_vm > 2690)\n",
    "\tresults.loc[day_loop, 'counts_vpa'] = np.sum(day_data_wear_choi.counts_vm > 6166)\n",
    " \n",
    " \n",
    "\tresults.loc[day_loop, 'enmo_lpa'] = np.sum((day_data_wear_vanhees.enmo > 47.4) & (day_data_wear_vanhees.enmo < 69.1))\n",
    "\tresults.loc[day_loop, 'enmo_mvpa'] = np.sum(day_data_wear_vanhees.enmo >= 69.1)\n",
    "\tresults.loc[day_loop, 'enmo_vpa'] = np.sum(day_data_wear_vanhees.enmo >= 258.7)\n",
    "\n",
    "results"
   ]
  }
 ],
 "metadata": {
  "kernelspec": {
   "display_name": "base",
   "language": "python",
   "name": "python3"
  },
  "language_info": {
   "codemirror_mode": {
    "name": "ipython",
    "version": 3
   },
   "file_extension": ".py",
   "mimetype": "text/x-python",
   "name": "python",
   "nbconvert_exporter": "python",
   "pygments_lexer": "ipython3",
   "version": "3.12.4"
  }
 },
 "nbformat": 4,
 "nbformat_minor": 2
}
