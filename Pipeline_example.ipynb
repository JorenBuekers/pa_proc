{
 "cells": [
  {
   "cell_type": "markdown",
   "metadata": {},
   "source": [
    "<h3>The example code below shows how the pa_proc package can be used to process acceleration data from a certain file. If multiple files have to be processed, a loop can be created using the code below within the loop.</h3>"
   ]
  },
  {
   "cell_type": "markdown",
   "metadata": {},
   "source": [
    "Before getting started, install the pa_proc package by running the following line: <br /><br />\n",
    "pip install git+https://github.com/JorenBuekers/pa_proc.git"
   ]
  },
  {
   "cell_type": "code",
   "execution_count": 1,
   "metadata": {},
   "outputs": [],
   "source": [
    "# Load required packages and functions\n",
    "import pandas as pd\n",
    "import numpy as np\n",
    "from pa_proc.acc_to_intermediate import acc_to_intermediate"
   ]
  },
  {
   "cell_type": "markdown",
   "metadata": {},
   "source": [
    "## 1) Only when using ExpoApp data: \n",
    "## Convert ExpoApp data to equidistant time series "
   ]
  },
  {
   "cell_type": "markdown",
   "metadata": {},
   "source": [
    "#### 1.1) Scenario 1: Further analyses will be performed with the pa_proc pipeline ###"
   ]
  },
  {
   "cell_type": "code",
   "execution_count": null,
   "metadata": {},
   "outputs": [],
   "source": [
    "from pa_proc.expoapp_to_acc import expoapp_to_equidistant\n",
    "\n",
    "# Create dataframe with equidistant acceleration in three axes\n",
    "data_eq = expoapp_to_equidistant(\"C:/Users/jbuekers/Desktop/pa_proc_test data/acc_expoapp.csv\", \n",
    "                                 gap_size=1, time_zone=\"Europe/Madrid\")\n",
    "\n",
    "# Save dataframe to csv (optional)\n",
    "data_eq.to_csv(\"C:/Users/jbuekers/Desktop/pa_proc_test data/acc_expoapp_eq.csv\", index=False, header=False)"
   ]
  },
  {
   "cell_type": "markdown",
   "metadata": {},
   "source": [
    "#### 1.2) Scenario 2: Further analyses will be performed with GGIR ###"
   ]
  },
  {
   "cell_type": "code",
   "execution_count": null,
   "metadata": {},
   "outputs": [],
   "source": [
    "from pa_proc.expoapp_to_acc import expoapp_to_actigraph\n",
    "\n",
    "# Create dataframe with equidistant acceleration in three axes, resembling an Actigraph file (to be used in GGIR)\n",
    "data_act = expoapp_to_actigraph(\"C:/Users/jbuekers/Desktop/pa_proc_test data/acc_expoapp.csv\",  \n",
    "                                gap_size=1, time_zone=\"Europe/Madrid\")\n",
    "\n",
    "# Save dataframe to csv (optional)\n",
    "data_act.to_csv(\"C:/Users/jbuekers/Desktop/pa_proc_test data/acc_expoapp_act.csv\", index=False, header=False)"
   ]
  },
  {
   "cell_type": "markdown",
   "metadata": {},
   "source": [
    "## 2) Convert raw acceleration data to Actigraph counts and ENMO"
   ]
  },
  {
   "cell_type": "markdown",
   "metadata": {},
   "source": [
    "#### 2.1) Scenario 1: Equidistant ExpoApp data 30 Hz in .csv format"
   ]
  },
  {
   "cell_type": "code",
   "execution_count": null,
   "metadata": {},
   "outputs": [],
   "source": [
    "intermediate_60s, _ = acc_to_intermediate(\"C:/Users/jbuekers/Desktop/pa_proc_test data/acc_expoapp_eq.csv\", \n",
    "                                          'expoapp-csv', sampling_freq=30, autocalibration=1, location=\"lumbar\")"
   ]
  },
  {
   "cell_type": "markdown",
   "metadata": {},
   "source": [
    "#### 2.2) Scenario 2: Actigraph data 30 Hz in .csv format"
   ]
  },
  {
   "cell_type": "code",
   "execution_count": 2,
   "metadata": {},
   "outputs": [],
   "source": [
    "intermediate_60s, _ = acc_to_intermediate(\"C:/Users/jbuekers/Desktop/pa_proc_test data/MOB033 (2022-08-08)RAW.csv\",\n",
    "                                          'actigraph-csv', sampling_freq=30, autocalibration=1, location=\"hip\")"
   ]
  },
  {
   "cell_type": "markdown",
   "metadata": {},
   "source": [
    "#### 2.3) Scenario 3: Actigraph data at 30 Hz in .gt3x format"
   ]
  },
  {
   "cell_type": "code",
   "execution_count": 100,
   "metadata": {},
   "outputs": [],
   "source": [
    "intermediate_60s, _ = acc_to_intermediate(\"C:/Users/jbuekers/Desktop/pa_proc_test data/MOB_033 (2022-08-08).gt3x\",\n",
    "                                          'actigraph-gt3x', sampling_freq=30, autocalibration=1, location=\"hip\")"
   ]
  },
  {
   "cell_type": "markdown",
   "metadata": {},
   "source": [
    "#### 2.4) Scenario 4: Axivity data at 100 Hz in .cwa format"
   ]
  },
  {
   "cell_type": "code",
   "execution_count": 88,
   "metadata": {},
   "outputs": [
    {
     "name": "stderr",
     "output_type": "stream",
     "text": [
      "c:\\Anaconda\\Lib\\site-packages\\skdh\\preprocessing\\calibrate.py:192: UserWarning: Recalibration not done with 360 - 372 hours due to insufficient non-movement data available\n",
      "  warn(\n"
     ]
    }
   ],
   "source": [
    "intermediate_60s, _ = acc_to_intermediate(\"C:/Users/jbuekers/Desktop/pa_proc_test data/6017276_belt.cwa\",\n",
    "                                          'axivity-cwa', sampling_freq=100, autocalibration=1, location=\"lumbar\")"
   ]
  },
  {
   "cell_type": "markdown",
   "metadata": {},
   "source": [
    "#### 2.5) Scenario 5: Matrix data at 100 Hz in .csv format"
   ]
  },
  {
   "cell_type": "code",
   "execution_count": 74,
   "metadata": {},
   "outputs": [
    {
     "name": "stdout",
     "output_type": "stream",
     "text": [
      "Epoch data contains 18 samples, which is less than the 90 minimum required samples\n"
     ]
    },
    {
     "name": "stderr",
     "output_type": "stream",
     "text": [
      "c:\\Anaconda\\Lib\\site-packages\\skdh\\preprocessing\\calibrate.py:163: UserWarning: Less than 72 hours of data (30.666666666666668 hours). No Calibration performed\n",
      "  warn(\n"
     ]
    }
   ],
   "source": [
    "intermediate_60s, enmo_10s = acc_to_intermediate(\"C:/Users/jbuekers/Desktop/pa_proc_test data/MATA00-2002975-20250312-125129.csv\",\n",
    "                                         device = 'matrix-csv', sampling_freq=100, autocalibration=1, location=\"wrist\")"
   ]
  },
  {
   "cell_type": "markdown",
   "metadata": {},
   "source": [
    "## 3) Calculate physical activity variables"
   ]
  },
  {
   "cell_type": "markdown",
   "metadata": {},
   "source": [
    "#### 3.1) Calculate daily values"
   ]
  },
  {
   "cell_type": "markdown",
   "metadata": {},
   "source": [
    "Example provided using cut-points from Freedson for counts, and from Hildebrand for ENMO"
   ]
  },
  {
   "cell_type": "code",
   "execution_count": 3,
   "metadata": {},
   "outputs": [],
   "source": [
    "from pa_proc.intermediate_to_daily import intermediate_to_daily\n",
    "pa_daily = intermediate_to_daily(intermediate_60s, cutpoints_counts = [100, 2296, 4012], cutpoints_enmo = [47.4, 69.1, 258.7])"
   ]
  },
  {
   "cell_type": "markdown",
   "metadata": {},
   "source": [
    "#### 3.2) Remove days with insufficient wear time"
   ]
  },
  {
   "cell_type": "code",
   "execution_count": 10,
   "metadata": {},
   "outputs": [],
   "source": [
    "# The example below refers to having at least 10 hours (=10*60 seconds) of wear time as defined by the Choi algorithm. \n",
    "# The minimal wear time and the used algorithm can be changed\n",
    "pa_daily_valid = pa_daily[pa_daily.weartime_choi > 10*60]"
   ]
  },
  {
   "cell_type": "markdown",
   "metadata": {},
   "source": [
    "#### 3.3) Calculate weekly values and the number of measurement days"
   ]
  },
  {
   "cell_type": "code",
   "execution_count": 14,
   "metadata": {},
   "outputs": [],
   "source": [
    "pa_weekly = pa_daily_valid.drop([\"weartime_choi\",\"weartime_vanhees\",\n",
    "                                 \"weartime_choi_waking\",\"weartime_vanhees_waking\"], axis=1).agg(\"mean\").astype(int)\n",
    "pa_weekly = pd.concat([pa_weekly, pd.Series(len(pa_daily_valid.index), index=[\"n_days\"])])"
   ]
  }
 ],
 "metadata": {
  "kernelspec": {
   "display_name": "base",
   "language": "python",
   "name": "python3"
  },
  "language_info": {
   "codemirror_mode": {
    "name": "ipython",
    "version": 3
   },
   "file_extension": ".py",
   "mimetype": "text/x-python",
   "name": "python",
   "nbconvert_exporter": "python",
   "pygments_lexer": "ipython3",
   "version": "3.12.4"
  }
 },
 "nbformat": 4,
 "nbformat_minor": 2
}
